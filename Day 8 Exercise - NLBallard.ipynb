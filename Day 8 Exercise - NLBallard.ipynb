{
 "cells": [
  {
   "cell_type": "markdown",
   "metadata": {},
   "source": [
    "### Exercise 1. \n",
    "Create a dictionary named pairs with key value pairs of:\n",
    "    - 'hello' and 'fire', \n",
    "    - 3 and 'seven', \n",
    "    - 'strong' and 45. \n",
    "\n",
    "Then, print out the dictionary."
   ]
  },
  {
   "cell_type": "code",
   "execution_count": 6,
   "metadata": {},
   "outputs": [
    {
     "name": "stdout",
     "output_type": "stream",
     "text": [
      "{'hello': 'fire', 3: 'fire', 'seven': 45}\n"
     ]
    }
   ],
   "source": [
    "dictionary = {'hello':'fire', 3:'fire', 'seven':45}\n",
    "print(dictionary)"
   ]
  },
  {
   "cell_type": "markdown",
   "metadata": {},
   "source": [
    "### Exercise 2. \n",
    "Add 'welcome' and 56 pair into <b><i>pairs</i></b> dictionary from exercise 1. Then, print out the dictionary. "
   ]
  },
  {
   "cell_type": "code",
   "execution_count": 7,
   "metadata": {},
   "outputs": [
    {
     "name": "stdout",
     "output_type": "stream",
     "text": [
      "{'hello': 'fire', 3: 'fire', 'seven': 45, 'welcome': 56}\n"
     ]
    }
   ],
   "source": [
    "dictionary['welcome'] = 56\n",
    "print(dictionary)"
   ]
  },
  {
   "cell_type": "markdown",
   "metadata": {},
   "source": [
    "### Exercise 3. \n",
    "Delete one item from <b><i>pairs</i></b> dictionary. Then, print deleted item and the dictionary."
   ]
  },
  {
   "cell_type": "code",
   "execution_count": 9,
   "metadata": {},
   "outputs": [
    {
     "name": "stdout",
     "output_type": "stream",
     "text": [
      "('welcome', 56)\n",
      "{'hello': 'fire', 3: 'fire', 'seven': 45}\n"
     ]
    }
   ],
   "source": [
    "print(dictionary.popitem())\n",
    "print(dictionary)"
   ]
  },
  {
   "cell_type": "markdown",
   "metadata": {},
   "source": [
    "### Exercise 4. \n",
    "Print the value of an item where key is 3 in <b><i>pairs</i></b> dicitonary"
   ]
  },
  {
   "cell_type": "code",
   "execution_count": 10,
   "metadata": {},
   "outputs": [
    {
     "name": "stdout",
     "output_type": "stream",
     "text": [
      "fire\n"
     ]
    }
   ],
   "source": [
    "print(dictionary[3])"
   ]
  },
  {
   "cell_type": "markdown",
   "metadata": {},
   "source": [
    "### Exercise 5. \n",
    "Try to find out if the key called 'hello' exist in <b><i>pairs</i></b> dictionary. Print 'key is found' message if the key exists otherwise print 'key is not there'."
   ]
  },
  {
   "cell_type": "code",
   "execution_count": 11,
   "metadata": {},
   "outputs": [
    {
     "name": "stdout",
     "output_type": "stream",
     "text": [
      "Key Is Found\n"
     ]
    }
   ],
   "source": [
    "if dictionary.get('hello'):\n",
    "    print(\"Key Is Found\")\n",
    "else: \n",
    "    print(\"Key Is Not There\")\n",
    "        \n",
    "        \n"
   ]
  },
  {
   "cell_type": "markdown",
   "metadata": {},
   "source": [
    "### Exercise 6. \n",
    "Create a Test Scores program that gets the name of students and test score from a user. Then, generate a list of students who passed and a list of students who failed where passing test score is 60 or above. "
   ]
  },
  {
   "cell_type": "code",
   "execution_count": 16,
   "metadata": {},
   "outputs": [
    {
     "name": "stdout",
     "output_type": "stream",
     "text": [
      "Student Name: dan\n",
      "Test Score: 90\n",
      "Do you want to add test scores? (Y/N): y\n",
      "Student Name: ren\n",
      "Test Score: 40\n",
      "Do you want to add test scores? (Y/N): n\n",
      "\n",
      "\n",
      "Passed: {'dan': 90}\n",
      "Failed: {'ren': 40}\n"
     ]
    }
   ],
   "source": [
    "passed = {}\n",
    "failed = {}\n",
    "generate = ''\n",
    "\n",
    "while generate != 'n' :\n",
    "    name = input(\"Student Name: \")\n",
    "    score = int(input(\"Test Score: \"))\n",
    "    \n",
    "    if score >= 60 :\n",
    "        passed[name] = score\n",
    "    else : \n",
    "        failed[name] = score\n",
    "        \n",
    "    generate = input(\"Do you want to add test scores? (Y/N): \").lower()\n",
    "    \n",
    "    if generate !='y' :\n",
    "        break\n",
    "\n",
    "    \n",
    "print(\"\\n\")\n",
    "print(f\"Passed: {passed}\")\n",
    "print(f\"Failed: {failed}\")\n"
   ]
  },
  {
   "cell_type": "markdown",
   "metadata": {},
   "source": [
    "### Exercise 7. \n",
    "\n",
    "Create a Word Counter program that gets a string of text from a user and then counts the number of times a word occrs in the string. \n",
    "\n",
    "The output should look something like this:\n",
    "\n",
    "    The Word Counter Program\n",
    "    \n",
    "    Enter a text string: \n",
    "    Humpty Dumpty sat on a wall, Humpty Dumpty had a great fall. All the king’s horses and all the king’s men couldn’t put Humpty together again.\n",
    "\n",
    "    a : 2\n",
    "    again : 1\n",
    "    all : 2\n",
    "    and : 1\n",
    "    couldn’t : 1\n",
    "    dumpty : 2\n",
    "    fall : 1\n",
    "    great : 1\n",
    "    had : 1\n",
    "    horses : 1\n",
    "    humpty : 3\n",
    "    king’s : 2\n",
    "    men : 1\n",
    "    on : 1\n",
    "    put : 1\n",
    "    sat : 1\n",
    "    the : 2\n",
    "    together : 1\n",
    "    wall : 1\n",
    "\n",
    "    There were total 26 words in the text string   "
   ]
  },
  {
   "cell_type": "code",
   "execution_count": 17,
   "metadata": {},
   "outputs": [
    {
     "name": "stdout",
     "output_type": "stream",
     "text": [
      "Enter sentence: Humpty Dumpty sat on a wall, Humpty Dumpty had a great fall. All the king’s horses and all the king’s men couldn’t put Humpty together again.\n",
      "26\n",
      "0 - for loop\n",
      "y - Humpty\n",
      "3\n",
      "again.\n",
      "y - Dumpty\n",
      "3\n",
      "Humpty\n",
      "y - sat\n",
      "3\n",
      "Dumpty\n",
      "y - on\n",
      "3\n",
      "sat\n",
      "y - a\n",
      "3\n",
      "on\n",
      "y - wall,\n",
      "3\n",
      "a\n",
      "y - Humpty\n",
      "3\n",
      "wall,\n",
      "y - Dumpty\n",
      "3\n",
      "Humpty\n",
      "y - had\n",
      "3\n",
      "Dumpty\n",
      "y - a\n",
      "3\n",
      "had\n",
      "y - great\n",
      "3\n",
      "a\n",
      "y - fall.\n",
      "3\n",
      "great\n",
      "y - All\n",
      "3\n",
      "fall.\n",
      "y - the\n",
      "3\n",
      "All\n",
      "y - king’s\n",
      "3\n",
      "the\n",
      "y - horses\n",
      "3\n",
      "king’s\n",
      "y - and\n",
      "3\n",
      "horses\n",
      "y - all\n",
      "3\n",
      "and\n",
      "y - the\n",
      "3\n",
      "all\n",
      "y - king’s\n",
      "3\n",
      "the\n",
      "y - men\n",
      "3\n",
      "king’s\n",
      "y - couldn’t\n",
      "3\n",
      "men\n",
      "y - put\n",
      "3\n",
      "couldn’t\n",
      "y - Humpty\n",
      "3\n",
      "put\n",
      "y - together\n",
      "3\n",
      "Humpty\n",
      "y - again.\n",
      "3\n",
      "together\n",
      "\n",
      "\n",
      "['Humpty', 'Dumpty', 'sat', 'on', 'a', 'wall,', 'Humpty', 'Dumpty', 'had', 'a', 'great', 'fall.', 'All', 'the', 'king’s', 'horses', 'and', 'all', 'the', 'king’s', 'men', 'couldn’t', 'put', 'Humpty', 'together', 'again.']\n",
      "\n",
      "\n",
      "Result: {'Humpty': '3'}\n",
      "26\n"
     ]
    }
   ],
   "source": [
    "#slice, then search\n",
    "#If last letter in string doesnt equal [a-z] from list, replace with '' * this should include/remove all punctation marks\n",
    "\n",
    "#Humpty Dumpty sat on a wall, Humpty Dumpty had a great fall. All the king’s horses and all the king’s men couldn’t put Humpty together again.\n",
    "\n",
    "\n",
    "\n",
    "\n",
    "sent = input(\"Enter sentence: \")\n",
    "sentSplit = sent.split()\n",
    "sentSplit2 = sentSplit.copy()\n",
    "sentLen = len(sentSplit)\n",
    "result = {}\n",
    "alphabet = ['a','b','c','d','e','f','g','h','i','j','k','l','m','n','o','p','q','r','s','t','u','v','w','x','y','z']\n",
    "\n",
    "#check length of string in each index; sent length to var; call through if statement to check the index with that number -1 to against alphabet  \n",
    "\n",
    "wordCheck = sentSplit[0]\n",
    "lastChar = wordCheck[-1]\n",
    "print(sentLen)\n",
    "\n",
    "\n",
    "#count4Loop = sentLen + 1\n",
    "count4Loop = 0\n",
    "print(f\"{count4Loop} - for loop\")\n",
    "\n",
    "\n",
    "\n",
    "\n",
    "\n",
    "#while count4Loop < sentLen :\n",
    "#while item[0:sentLen-1]:\n",
    "# for item in sentSplit:    \n",
    "#     if lastChar in alphabet :\n",
    "#         print(f\"{lastChar} - yes\")\n",
    "    \n",
    "#     # get count of occurrences within Sentence\n",
    "#         if wordCheck in sent :\n",
    "#             num = sent.count(wordCheck)\n",
    "#             print(num)\n",
    "\n",
    "    #save as tuple to dictionary\n",
    "#         result[f\"{wordCheck}\"] = f\"{num}\"\n",
    "        \n",
    "#         count4Loop = count4Loop - 1\n",
    "    \n",
    "#     else :\n",
    "#         print(f\"{lastChar} - noelse\")\n",
    "#     count4Loop = count4Loop - 1\n",
    "   \n",
    "#while sentSplit2(count4Loop) < sentLen :\n",
    "\n",
    "\n",
    "for item in range(len(sentSplit)): \n",
    "    if lastChar in alphabet :\n",
    "        print(f\"{lastChar} - {sentSplit[item]}\")\n",
    "\n",
    "        # get count of occurrences within Sentence\n",
    "        if wordCheck in sent :\n",
    "#        if sentSplit[item] in sent :   \n",
    "            num = sent.count(wordCheck)\n",
    "            print(num)\n",
    "\n",
    "        #save as tuple to dictionary\n",
    "        result[f\"{wordCheck}\"] = f\"{num}\"\n",
    "\n",
    "        count4Loop += 1  \n",
    "        print(sentSplit[item-1])\n",
    "       \n",
    "    \n",
    "\n",
    "    else :\n",
    "        print(f\"{lastChar} - noelse\")\n",
    "\n",
    "        count4Loop += 1     \n",
    "\n",
    "    \n",
    "    \n",
    "    \n",
    "    \n",
    "\n",
    "print(\"\\n\")\n",
    "print(sentSplit)\n",
    "print(\"\\n\")\n",
    "#print(wordCheck)\n",
    "#print(lastChar)\n",
    "#print(alphabet)\n",
    "print(f\"Result: {result}\")\n",
    "print(count4Loop)\n",
    "#print(item[0:sentLen-1])\n",
    "\n"
   ]
  },
  {
   "cell_type": "code",
   "execution_count": null,
   "metadata": {},
   "outputs": [],
   "source": [
    "# IGNORE ALL CODE BELOW"
   ]
  },
  {
   "cell_type": "code",
   "execution_count": null,
   "metadata": {},
   "outputs": [],
   "source": [
    "\n",
    "\n",
    "#slice, then search\n",
    "\n",
    "\n",
    "\n",
    "sent = {input(\"Enter sentence: \")\n",
    "sentRemoveP= sent.replace(\".\",\" \")\n",
    "sentSplit = sentRemoveP\n",
    "sentRemoveC= sent.replace(\",\",\" \")\n",
    "\n",
    "\n",
    "\n",
    "\n",
    "\n",
    "#sentRemove= sent.replace(\",\",\" \")\n",
    "sentSplit = sent.split()\n",
    "\n",
    "\n",
    "#print(sent)\n",
    "print(sentRemoveP)\n",
    "print(sentRemoveC)\n",
    "print(sentSplit)\n"
   ]
  },
  {
   "cell_type": "code",
   "execution_count": null,
   "metadata": {},
   "outputs": [],
   "source": [
    "#slice, then search\n",
    "#If last letter in string doesnt equal [a-z] from list, replace with '' * this should include/remove all punctation marks\n",
    "\n",
    "#Humpty Dumpty sat on a wall, Humpty Dumpty had a great fall. All the king’s horses and all the king’s men couldn’t put Humpty together again.\n",
    "\n",
    "\n",
    "sent = input(\"Enter sentence: \")\n",
    "sentSplit = sent.split()\n",
    "result = {}\n",
    "alphabet = ['a','b','c','d','e','f','g','h','i','j','k','l','m','n','o','p','q','r','s','t','u','v','w','x','y','z']\n",
    "\n",
    "#check length of string in each index; sent length to var; call through if statement to check the index with that number -1 to against alphabet  \n",
    "\n",
    "#lenOfW = len(sentSplit[0])\n",
    "#lastOfW = lenOfW - 1\n",
    "wordCheck = sentSplit[0]\n",
    "lastChar = wordCheck[-1]\n",
    "\n",
    "\n",
    "\n",
    "\n",
    "#for item in alphabet:\n",
    "#for item in sentSplit:\n",
    "#if wordCheck[-1] in alphabet :\n",
    "#    print(f\"{item} - clear\")\n",
    "        \n",
    "    #wordCheck.count() \n",
    "        \n",
    "#else :\n",
    " #   print(f\"{item - replace}\")\n",
    "\n",
    "\n",
    "\n",
    "#for item in sentSplit:\n",
    "if lastChar in alphabet :\n",
    "    print(f\"{lastChar} - yes\")\n",
    "    \n",
    "    # get count of occurrences within Sentence\n",
    "    if wordCheck in sent :\n",
    "        num = sent.count(wordCheck)\n",
    "        print(num)\n",
    "\n",
    "    #save as tuple to dictionary\n",
    "    result[f\"{wordCheck}\"] = f\"{num}\"\n",
    "    \n",
    "else :\n",
    "    print(f\"{lastChar} - noelse\")\n",
    "\n",
    "    \n",
    "\n",
    "print(\"\\n\")\n",
    "print(sentSplit)\n",
    "print(\"\\n\")\n",
    "print(wordCheck)\n",
    "print(lastChar)\n",
    "print(alphabet)\n",
    "print(result)\n",
    "\n",
    "\n",
    "\n",
    "\n",
    "\n",
    "\n",
    "\n",
    "\n"
   ]
  },
  {
   "cell_type": "code",
   "execution_count": null,
   "metadata": {},
   "outputs": [],
   "source": [
    "if lastChar in alphabet :\n",
    "    print(f\"{lastChar} - yes\")\n",
    "    \n",
    "    # get count of occurrences within Sentence\n",
    "    if wordCheck in sent :\n",
    "        num = sent.count(wordCheck)\n",
    "        print(num)\n",
    "\n",
    "    #save as tuple to dictionary\n",
    "    result[f\"{wordCheck}\"] = f\"{num}\"\n",
    "    \n",
    "    count4Loop = count4Loop - 1   \n",
    "\n",
    "    \n",
    "else :\n",
    "    print(f\"{lastChar} - noelse\")\n",
    "    \n",
    "    count4Loop = count4Loop - 1   \n",
    "    \n",
    "    \n",
    "    \n",
    "    \n",
    "\n",
    "    \n",
    "    \n",
    "    \n",
    "if lastChar in alphabet :\n",
    "    print(f\"{lastChar} - yes\")\n",
    "\n",
    "    # get count of occurrences within Sentence\n",
    "    if wordCheck in sent :\n",
    "        num = sent.count(wordCheck)\n",
    "        print(num)\n",
    "\n",
    "    #save as tuple to dictionary\n",
    "    result[f\"{wordCheck}\"] = f\"{num}\"\n",
    "\n",
    "    count4Loop = count4Loop + 1   \n",
    "\n",
    "\n",
    "else :\n",
    "    print(f\"{lastChar} - noelse\")\n",
    "\n",
    "    count4Loop = count4Loop + 1   "
   ]
  }
 ],
 "metadata": {
  "kernelspec": {
   "display_name": "Python 3",
   "language": "python",
   "name": "python3"
  },
  "language_info": {
   "codemirror_mode": {
    "name": "ipython",
    "version": 3
   },
   "file_extension": ".py",
   "mimetype": "text/x-python",
   "name": "python",
   "nbconvert_exporter": "python",
   "pygments_lexer": "ipython3",
   "version": "3.8.8"
  }
 },
 "nbformat": 4,
 "nbformat_minor": 4
}
