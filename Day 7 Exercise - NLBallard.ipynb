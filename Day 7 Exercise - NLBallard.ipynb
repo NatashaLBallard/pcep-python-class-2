{
 "cells": [
  {
   "cell_type": "markdown",
   "metadata": {},
   "source": [
    "### Exercise 1\n",
    "Create a multiplication table from 1 to 10"
   ]
  },
  {
   "cell_type": "code",
   "execution_count": 134,
   "metadata": {},
   "outputs": [
    {
     "name": "stdout",
     "output_type": "stream",
     "text": [
      " 1 2 3 4 5 6 7 8 9 10 \n",
      " 2 4 6 8 10 12 14 16 18 20 \n",
      " 3 6 9 12 15 18 21 24 27 30 \n",
      " 4 8 12 16 20 24 28 32 36 40 \n",
      " 5 10 15 20 25 30 35 40 45 50 \n",
      " 6 12 18 24 30 36 42 48 54 60 \n",
      " 7 14 21 28 35 42 49 56 63 70 \n",
      " 8 16 24 32 40 48 56 64 72 80 \n",
      " 9 18 27 36 45 54 63 72 81 90 \n",
      " 10 20 30 40 50 60 70 80 90 100 \n"
     ]
    }
   ],
   "source": [
    "x = 0\n",
    "y = 0\n",
    "result = 0\n",
    "\n",
    "def multiTable(x,y) :\n",
    "    for x in range(1,11) :\n",
    "#        print(f\"Row for: {x}\" , end=' | ')\n",
    "        for y in range(1,11) :\n",
    "            result = x * y\n",
    "            print(f\" {result}\", end='')\n",
    "            \n",
    "        print(\" \")  \n",
    "\n",
    "multiTable(x,y)"
   ]
  },
  {
   "cell_type": "markdown",
   "metadata": {},
   "source": [
    "### Exercise 2\n",
    "Write a program to find the Fibonacci numbers where each number is the sum of the two preceding ones, starting from 0 and 1. \n",
    "\n",
    "    e.g.\n",
    "    0, 1, 1, 2, 3, 5, 8, ...\n",
    "    \n",
    "Ask a user to enter a number of sequence. Generate the Fibonacci numbers in to a list. Then, print out the list.  \n",
    "\n",
    "The output should look something like this:\n",
    "\n",
    "    How many Fibonacci numbers would you like to generate? 10    \n",
    "    10 Fibonacci numbers are [0, 1, 1, 2, 3, 5, 8, 13, 21, 34]."
   ]
  },
  {
   "cell_type": "code",
   "execution_count": 207,
   "metadata": {},
   "outputs": [
    {
     "name": "stdout",
     "output_type": "stream",
     "text": [
      "How many Fibonacci numbers would you like to generate? 15\n",
      "[0, 1, 1, 2, 3, 5, 8, 13, 21, 34, 55, 89, 144, 233, 377, 610]\n"
     ]
    }
   ],
   "source": [
    "firstNum = 0\n",
    "secondNum = 1\n",
    "result = 0\n",
    "fibList = []\n",
    "\n",
    "sequence = int(input(\"How many Fibonacci numbers would you like to generate? \"))\n",
    "\n",
    "def generateFib(firstNum,secondNum) :\n",
    "    fibList.append(firstNum)\n",
    "    fibList.append(secondNum)\n",
    "    \n",
    "    while len(fibList) < sequence :\n",
    "            result = firstNum + secondNum    #result = 0 + 1 = 1\n",
    "            fibList.append(result)           \n",
    "            firstNum = result                #firstNum = 1 \n",
    "            secondNum = secondNum + result   #secondNum = 1 + 1 = 2\n",
    "            fibList.append(secondNum) \n",
    "    print(fibList)\n",
    "            \n",
    "        \n",
    "generateFib(firstNum,secondNum)"
   ]
  },
  {
   "cell_type": "code",
   "execution_count": null,
   "metadata": {},
   "outputs": [],
   "source": []
  },
  {
   "cell_type": "code",
   "execution_count": null,
   "metadata": {},
   "outputs": [],
   "source": []
  }
 ],
 "metadata": {
  "kernelspec": {
   "display_name": "Python 3",
   "language": "python",
   "name": "python3"
  },
  "language_info": {
   "codemirror_mode": {
    "name": "ipython",
    "version": 3
   },
   "file_extension": ".py",
   "mimetype": "text/x-python",
   "name": "python",
   "nbconvert_exporter": "python",
   "pygments_lexer": "ipython3",
   "version": "3.8.8"
  }
 },
 "nbformat": 4,
 "nbformat_minor": 4
}
