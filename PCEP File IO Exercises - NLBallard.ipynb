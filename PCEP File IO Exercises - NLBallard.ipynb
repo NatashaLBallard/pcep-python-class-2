{
 "cells": [
  {
   "cell_type": "markdown",
   "metadata": {},
   "source": [
    "### Exercise 1\n",
    "Create a file called <b>exercise1.txt</b> and write following lines:\n",
    "\n",
    "    Twinkle, twinkle, little star,\n",
    "    How I wonder what you are.\n",
    "    Up above the world so high,\n",
    "    Like a diamond in the sky.\n",
    "    \n",
    "    \n",
    "Don't forget to close the file.        "
   ]
  },
  {
   "cell_type": "code",
   "execution_count": 6,
   "metadata": {},
   "outputs": [],
   "source": [
    "song = open('exercise.txt','w+')\n",
    "song.write('Twinkle, twinkle, little star, \\n')\n",
    "song.write('How I wonder what you are. \\n')\n",
    "song.write('Up above the world so high, \\n')\n",
    "song.write('Like a diamond in the sky. \\n')\n",
    "\n",
    "data = song.read()\n",
    "\n",
    "song.close()\n"
   ]
  },
  {
   "cell_type": "code",
   "execution_count": null,
   "metadata": {},
   "outputs": [],
   "source": [
    "#For Testing Purposes Only\n",
    "\n",
    "song = open('exercise.txt','w+')\n",
    "song.write(\" \")\n",
    "song.close()\n",
    "\n",
    "song = open('exercise.txt')\n",
    "data = song.read()\n",
    "\n",
    "while line in data :\n",
    "    song = open('exercise.txt', 'a+')\n",
    "    song.write(input(\"Enter in lyric \\n\"))\n",
    "    song.close()\n",
    "    \n",
    "    addMore = (input(\"Do you want to add more? y/n\")).lower\n",
    "    if addMore == \"n\" :\n",
    "        break\n",
    "\n",
    "song.close()\n",
    "\n",
    "print(song)"
   ]
  },
  {
   "cell_type": "code",
   "execution_count": null,
   "metadata": {},
   "outputs": [],
   "source": []
  },
  {
   "cell_type": "markdown",
   "metadata": {},
   "source": [
    "### Exercise 2\n",
    "Append following lines to a file called <b>exercise1.txt</b>:\n",
    "\n",
    "    Twinkle, twinkle, little star,\n",
    "    How I wonder what you are.\n",
    "    \n",
    "Don't forget to close the file.    "
   ]
  },
  {
   "cell_type": "code",
   "execution_count": 7,
   "metadata": {},
   "outputs": [],
   "source": [
    "song = open('exercise.txt', 'a+')\n",
    "song.write('Twinkle, twinkle, little star, \\n')\n",
    "song.write('How I wonder what you are.')\n",
    "\n",
    "data = song.read()\n",
    "\n",
    "song.close()"
   ]
  },
  {
   "cell_type": "code",
   "execution_count": null,
   "metadata": {},
   "outputs": [],
   "source": []
  },
  {
   "cell_type": "markdown",
   "metadata": {},
   "source": [
    "### Exercise 3\n",
    "Read a file, <b>exercise1.txt</b> and print the content of the file using a loop.\n",
    "    \n",
    "Don't forget to close the file.    "
   ]
  },
  {
   "cell_type": "code",
   "execution_count": 10,
   "metadata": {},
   "outputs": [
    {
     "name": "stdout",
     "output_type": "stream",
     "text": [
      "Twinkle, twinkle, little star, \n",
      "How I wonder what you are. \n",
      "Up above the world so high, \n",
      "Like a diamond in the sky. \n",
      "Twinkle, twinkle, little star, \n",
      "How I wonder what you are."
     ]
    }
   ],
   "source": [
    "song = open('exercise.txt','r')\n",
    "\n",
    "data = song.read()\n",
    "\n",
    "for line in data:\n",
    "    print(line, end='')\n",
    "\n",
    "song.close()"
   ]
  },
  {
   "cell_type": "code",
   "execution_count": null,
   "metadata": {},
   "outputs": [],
   "source": []
  },
  {
   "cell_type": "markdown",
   "metadata": {},
   "source": [
    "### Exercise 4\n",
    "Read line number 4 from the file, <b>exercise1.txt</b>."
   ]
  },
  {
   "cell_type": "code",
   "execution_count": 11,
   "metadata": {},
   "outputs": [
    {
     "name": "stdout",
     "output_type": "stream",
     "text": [
      "Twin"
     ]
    }
   ],
   "source": [
    "song = open('exercise.txt','r')\n",
    "\n",
    "data = song.readline(4)\n",
    "\n",
    "for line in data:\n",
    "    print(line, end='')\n",
    "\n",
    "\n",
    "song.close()"
   ]
  },
  {
   "cell_type": "code",
   "execution_count": 12,
   "metadata": {},
   "outputs": [
    {
     "name": "stdout",
     "output_type": "stream",
     "text": [
      "Twin"
     ]
    }
   ],
   "source": [
    "song = open('exercise.txt','r')\n",
    "\n",
    "data = song.readline(4)\n",
    "count = 0\n",
    "\n",
    "for line in data:\n",
    "    print(line, end='')\n",
    "    \n",
    "\n",
    "\n",
    "song.close()"
   ]
  },
  {
   "cell_type": "markdown",
   "metadata": {},
   "source": [
    "### Exercise 5\n",
    "Write a program that asks the user for a number and a file name, then prints out the number from 1 to that number, one one each line to a file named using user's input.\n",
    "Then, read that file and print out its content."
   ]
  },
  {
   "cell_type": "code",
   "execution_count": null,
   "metadata": {},
   "outputs": [],
   "source": []
  },
  {
   "cell_type": "code",
   "execution_count": null,
   "metadata": {},
   "outputs": [],
   "source": []
  },
  {
   "cell_type": "markdown",
   "metadata": {},
   "source": [
    "### Exercise 6\n",
    "Merge a file from exercise 5 and <b>exercise1.txt</b> to a file called <b>merged.txt</b>. Then, prin out the content of <b>merged.txt</b> before closing the file."
   ]
  },
  {
   "cell_type": "code",
   "execution_count": null,
   "metadata": {},
   "outputs": [],
   "source": []
  },
  {
   "cell_type": "code",
   "execution_count": null,
   "metadata": {},
   "outputs": [],
   "source": []
  }
 ],
 "metadata": {
  "kernelspec": {
   "display_name": "Python 3",
   "language": "python",
   "name": "python3"
  },
  "language_info": {
   "codemirror_mode": {
    "name": "ipython",
    "version": 3
   },
   "file_extension": ".py",
   "mimetype": "text/x-python",
   "name": "python",
   "nbconvert_exporter": "python",
   "pygments_lexer": "ipython3",
   "version": "3.8.8"
  }
 },
 "nbformat": 4,
 "nbformat_minor": 4
}
